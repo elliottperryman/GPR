{
 "cells": [
  {
   "cell_type": "markdown",
   "metadata": {},
   "source": [
    "# GPR\n",
    " * For the Centric/Acentric Case\n",
    "     * For 1,000, 5,000, 10,000 pts\n",
    "         * Optimize hyperparameters\n",
    "         * report RMS\n",
    " * By convention, X_s is the sampling points (where I'll test GPR), and X_t is for points used in training\n",
    "\n",
    "#### Imports and Function Defs"
   ]
  },
  {
   "cell_type": "code",
   "execution_count": 1,
   "metadata": {},
   "outputs": [],
   "source": [
    "import numpy as np\n",
    "import matplotlib.pyplot as plt\n",
    "import numba as nb\n",
    "import itertools\n",
    "import math\n",
    "import scipy.optimize\n",
    "from math import ceil"
   ]
  },
  {
   "cell_type": "code",
   "execution_count": 2,
   "metadata": {},
   "outputs": [],
   "source": [
    "%run ../../CoreTools/CoreFunctions.ipynb"
   ]
  },
  {
   "cell_type": "markdown",
   "metadata": {},
   "source": [
    "### GPR Function Defs"
   ]
  },
  {
   "cell_type": "code",
   "execution_count": 3,
   "metadata": {},
   "outputs": [],
   "source": [
    "@nb.njit(cache=True)\n",
    "def rbf(xp, xq, l, sf):\n",
    "    return sf*sf*np.exp(-.5 * np.sum(np.power((xp-xq)/l, 2)))"
   ]
  },
  {
   "cell_type": "code",
   "execution_count": 4,
   "metadata": {},
   "outputs": [],
   "source": [
    "@nb.njit(parallel=True)\n",
    "def K_XY(X, Y, l, sf):\n",
    "    cov = np.empty((len(Y),len(X)))\n",
    "    for i in nb.prange(len(Y)):\n",
    "        for j in range(len(X)):\n",
    "            cov[i,j] = rbf(Y[i], X[j], l, sf)\n",
    "    return cov"
   ]
  },
  {
   "cell_type": "code",
   "execution_count": 5,
   "metadata": {},
   "outputs": [],
   "source": [
    "@nb.njit(parallel=True)\n",
    "def predict(X, X_s, l, sf, k_xx_i_y, y_mean):\n",
    "    return np.dot(K_XY(X, X_s, l, sf), k_xx_i_y) + y_mean"
   ]
  },
  {
   "cell_type": "code",
   "execution_count": 6,
   "metadata": {},
   "outputs": [],
   "source": [
    "def fitPredict(X_train, y_train, X_test, l, sf):\n",
    "\n",
    "    k_xx = K_XY(X_train, X_train, l, sf)\n",
    "    y_mean = np.mean(y_train)\n",
    "    k_xx_i_y = scipy.sparse.linalg.minres(k_xx, y_train-y_mean)[0] \n",
    "    pred = predict(X_train, X_test, l, sf, k_xx_i_y, y_mean)\n",
    "    \n",
    "    return pred, k_xx_i_y"
   ]
  },
  {
   "cell_type": "markdown",
   "metadata": {},
   "source": [
    "Compile optimized code rn"
   ]
  },
  {
   "cell_type": "code",
   "execution_count": 7,
   "metadata": {},
   "outputs": [],
   "source": [
    "p, k = fitPredict(np.random.random((2,4)), np.random.random(2), np.random.random((10,4)), np.ones(4), 1.)"
   ]
  },
  {
   "cell_type": "markdown",
   "metadata": {},
   "source": [
    "### Hyperparameter Tuning Function Defs"
   ]
  },
  {
   "cell_type": "code",
   "execution_count": 8,
   "metadata": {},
   "outputs": [],
   "source": [
    "def res(params, X_training, y_training, X_sampling, y_sampling, verbose=True):\n",
    "    l = params[:-1]\n",
    "    sf = params[-1]\n",
    "            \n",
    "    pred, k_xx_i_y = fitPredict(X_training, y_training, X_sampling, l, sf)\n",
    "    \n",
    "    r = np.sqrt(np.mean(np.power(y_sampling-pred, 2)))\n",
    "    if verbose: print(r, params)\n",
    "\n",
    "    return r"
   ]
  },
  {
   "cell_type": "markdown",
   "metadata": {},
   "source": [
    "### Training & Sampling Data"
   ]
  },
  {
   "cell_type": "code",
   "execution_count": 9,
   "metadata": {},
   "outputs": [],
   "source": [
    "N = 18"
   ]
  },
  {
   "cell_type": "code",
   "execution_count": 10,
   "metadata": {},
   "outputs": [],
   "source": [
    "epsilon = 1.1e-2\n",
    "Ec_start = 1e-5; Ec_end = 5.\n",
    "sA_start = 1e-5; sA_end = 1-epsilon\n",
    "Z0_start = -5; Z0_end = 25\n",
    "sZ_start = 1e-5; sZ_end = 5"
   ]
  },
  {
   "cell_type": "markdown",
   "metadata": {},
   "source": [
    "## GPR on Centric Case"
   ]
  },
  {
   "cell_type": "code",
   "execution_count": 11,
   "metadata": {},
   "outputs": [],
   "source": [
    "X, y = np.load('../../data/Centric_X.npy'), np.load('../../data/Centric_y.npy')"
   ]
  },
  {
   "cell_type": "code",
   "execution_count": 12,
   "metadata": {},
   "outputs": [
    {
     "data": {
      "text/plain": [
       "array([ 0.0029642 ,  0.07308452, -0.00221497,  0.00446096], dtype=float32)"
      ]
     },
     "execution_count": 12,
     "metadata": {},
     "output_type": "execute_result"
    }
   ],
   "source": [
    "c = np.linalg.solve(X.T@X, X.T@y)\n",
    "c"
   ]
  },
  {
   "cell_type": "code",
   "execution_count": 13,
   "metadata": {},
   "outputs": [],
   "source": [
    "y -= X @ c"
   ]
  },
  {
   "cell_type": "code",
   "execution_count": 14,
   "metadata": {},
   "outputs": [
    {
     "data": {
      "text/plain": [
       "array([  100,   200,   300,   400,   500,   600,   700,   800,   900,\n",
       "        1000,  2000,  3000,  4000,  5000,  6000,  7000,  8000,  9000,\n",
       "       10000])"
      ]
     },
     "execution_count": 14,
     "metadata": {},
     "output_type": "execute_result"
    }
   ],
   "source": [
    "sampling_size = np.append(np.arange(100, 1000, 100), np.arange(1000, 10**4+10**3, 10**3))\n",
    "sampling_size"
   ]
  },
  {
   "cell_type": "code",
   "execution_count": 15,
   "metadata": {},
   "outputs": [
    {
     "data": {
      "text/plain": [
       "array([500., 300., 200., 200., 200., 200., 200., 200., 200., 200., 200.,\n",
       "       200., 200., 200., 200., 200., 200., 200., 200.])"
      ]
     },
     "execution_count": 15,
     "metadata": {},
     "output_type": "execute_result"
    }
   ],
   "source": [
    "tuning_rate = np.append([500, 300], 200*np.ones(len(sampling_size)-2))\n",
    "tuning_rate"
   ]
  },
  {
   "cell_type": "code",
   "execution_count": 16,
   "metadata": {},
   "outputs": [
    {
     "data": {
      "text/plain": [
       "5"
      ]
     },
     "execution_count": 16,
     "metadata": {},
     "output_type": "execute_result"
    }
   ],
   "source": [
    "test_size = ceil(len(X)/2e4)\n",
    "test_size"
   ]
  },
  {
   "cell_type": "code",
   "execution_count": 17,
   "metadata": {},
   "outputs": [],
   "source": [
    "l = None"
   ]
  },
  {
   "cell_type": "code",
   "execution_count": 18,
   "metadata": {},
   "outputs": [],
   "source": [
    "centric_RMS = np.empty(len(sampling_size))"
   ]
  },
  {
   "cell_type": "code",
   "execution_count": 19,
   "metadata": {},
   "outputs": [
    {
     "name": "stdout",
     "output_type": "stream",
     "text": [
      "with size of 100, best params are [0.56664574 0.12219316 1.52095183 1.92672143] 1.2872533952960006 and rms error is  0.073\n",
      "with size of 200, best params are [0.39577348 0.06500816 1.44862196 2.35624139] 1.8559888330151322 and rms error is  0.072\n",
      "with size of 300, best params are [ 3.17231145  0.59776669 -1.71645535  7.05483663] -11.54152262591451 and rms error is  0.065\n",
      "with size of 400, best params are [ 3.0532361   0.59157633 -1.95047371  6.90360782] -11.545413138722399 and rms error is  0.062\n",
      "with size of 500, best params are [ 1.76225786  0.3109759  -3.6568168   6.84670887] -12.606941489838018 and rms error is  0.054\n",
      "with size of 600, best params are [ 1.85516872  0.37645277 -2.29866522  7.44961739] -13.470183266436019 and rms error is  0.057\n",
      "with size of 700, best params are [ 1.681602    0.43218099 -2.19641502  4.59001475] -15.189974448408591 and rms error is  0.05\n",
      "with size of 800, best params are [ 2.09718342  0.16595347 -2.42695549  5.90747088] -15.306463954477275 and rms error is  0.054\n",
      "with size of 900, best params are [ 1.86684081  0.32014978 -1.51641034  2.8682197 ] -22.34290639066777 and rms error is  0.053\n",
      "with size of 1000, best params are [ 1.31678147  0.13124032 -2.52870061  4.19120949] -14.522030146105678 and rms error is  0.055\n",
      "with size of 2000, best params are [ 1.16547718  0.18772262 -1.53838001  3.91877201] -16.425531739093422 and rms error is  0.037\n",
      "with size of 3000, best params are [ 1.2967559   0.21885007 -1.79562412  2.00909656] -16.727615873972333 and rms error is  0.044\n",
      "with size of 4000, best params are [ 0.81772406  0.14594689 -1.11145189  5.20543498] -6.824586863030928 and rms error is  0.034\n",
      "with size of 5000, best params are [ 0.75133356  0.20262756 -0.37465593  5.8571005 ] -7.505624878673726 and rms error is  0.034\n",
      "with size of 6000, best params are [ 0.80639911  0.23039667 -0.40082832  3.1510867 ] -8.200940226399851 and rms error is  0.031\n",
      "with size of 7000, best params are [ 0.8946339   0.17353202 -0.43162035  3.44602342] -8.230972142418832 and rms error is  0.033\n",
      "with size of 8000, best params are [ 0.45656215  0.18376657 -0.21588705  7.10906106] -7.664037562426545 and rms error is  0.033\n",
      "with size of 9000, best params are [ 0.76997081  0.07886591 -0.14260656  6.74594298] -8.685957052907575 and rms error is  0.034\n",
      "with size of 10000, best params are [ 0.39343298  0.19350809 -0.11562606  2.09609578] -5.541959326513697 and rms error is  0.026\n"
     ]
    },
    {
     "data": {
      "text/plain": [
       "<Figure size 1800x1080 with 0 Axes>"
      ]
     },
     "metadata": {},
     "output_type": "display_data"
    }
   ],
   "source": [
    "plt.figure(figsize=(25,15))\n",
    "for i, size in enumerate(sampling_size):\n",
    "    step_size = ceil(len(X)/size)\n",
    "    \n",
    "    if l is None: res_args = np.ones(5)\n",
    "    else: res_args = np.append(l, sf)\n",
    "\n",
    "    best = scipy.optimize.minimize(res, res_args, \n",
    "                                   args=(X[::step_size], y[::step_size], X[::test_size], y[::test_size], False),\n",
    "                                   method='Nelder-Mead', options={'maxfev':tuning_rate[i]})\n",
    "\n",
    "    l = best.x[:-1]\n",
    "    sf = best.x[-1]\n",
    "    \n",
    "    p, k = fitPredict(X[::step_size], y[::step_size], X, l, sf)\n",
    "    \n",
    "    err = p-y\n",
    "    \n",
    "    rms = np.sqrt(np.mean(np.power(err, 2)))\n",
    "\n",
    "    print('with size of {}, best params are'.format(size),l,sf,'and rms error is ', np.around(rms,3))\n",
    "    centric_RMS[i] = rms"
   ]
  },
  {
   "cell_type": "code",
   "execution_count": 28,
   "metadata": {},
   "outputs": [
    {
     "data": {
      "text/plain": [
       "3090"
      ]
     },
     "execution_count": 28,
     "metadata": {},
     "output_type": "execute_result"
    }
   ],
   "source": [
    "len(X[::31])"
   ]
  },
  {
   "cell_type": "code",
   "execution_count": 30,
   "metadata": {},
   "outputs": [
    {
     "name": "stdout",
     "output_type": "stream",
     "text": [
      "CPU times: user 7min 47s, sys: 1.18 s, total: 7min 49s\n",
      "Wall time: 41.7 s\n"
     ]
    }
   ],
   "source": [
    "%%time\n",
    "p,k = fitPredict(X[::31], y[::31], X, np.array([ 0.39343298, 0.19350809, -0.11562606, 2.09609578]), -5.541959326513697)"
   ]
  },
  {
   "cell_type": "code",
   "execution_count": null,
   "metadata": {},
   "outputs": [],
   "source": []
  },
  {
   "cell_type": "markdown",
   "metadata": {},
   "source": [
    "## GPR on Acentric Case"
   ]
  },
  {
   "cell_type": "code",
   "execution_count": 20,
   "metadata": {},
   "outputs": [],
   "source": [
    "X, y = np.load('../../data/Acentric_X.npy'), np.load('../../data/Acentric_y.npy')"
   ]
  },
  {
   "cell_type": "code",
   "execution_count": 21,
   "metadata": {},
   "outputs": [
    {
     "data": {
      "text/plain": [
       "array([ 0.00552832,  0.02997149, -0.00183045,  0.00619168], dtype=float32)"
      ]
     },
     "execution_count": 21,
     "metadata": {},
     "output_type": "execute_result"
    }
   ],
   "source": [
    "c = np.linalg.solve(X.T@X, X.T@y)\n",
    "c"
   ]
  },
  {
   "cell_type": "code",
   "execution_count": 22,
   "metadata": {},
   "outputs": [],
   "source": [
    "y -= X @ c"
   ]
  },
  {
   "cell_type": "code",
   "execution_count": 23,
   "metadata": {},
   "outputs": [
    {
     "data": {
      "text/plain": [
       "array([  100,   200,   300,   400,   500,   600,   700,   800,   900,\n",
       "        1000,  2000,  3000,  4000,  5000,  6000,  7000,  8000,  9000,\n",
       "       10000])"
      ]
     },
     "execution_count": 23,
     "metadata": {},
     "output_type": "execute_result"
    }
   ],
   "source": [
    "sampling_size = np.append(np.arange(100, 1000, 100), np.arange(1000, 10**4+10**3, 10**3))\n",
    "sampling_size"
   ]
  },
  {
   "cell_type": "code",
   "execution_count": 24,
   "metadata": {},
   "outputs": [
    {
     "data": {
      "text/plain": [
       "array([500., 300., 200., 200., 200., 200., 200., 200., 200., 200., 200.,\n",
       "       200., 200., 200., 200., 200., 200., 200., 200.])"
      ]
     },
     "execution_count": 24,
     "metadata": {},
     "output_type": "execute_result"
    }
   ],
   "source": [
    "tuning_rate = np.append([500, 300], 200*np.ones(len(sampling_size)-2))\n",
    "tuning_rate"
   ]
  },
  {
   "cell_type": "code",
   "execution_count": 25,
   "metadata": {},
   "outputs": [
    {
     "data": {
      "text/plain": [
       "5"
      ]
     },
     "execution_count": 25,
     "metadata": {},
     "output_type": "execute_result"
    }
   ],
   "source": [
    "test_size = ceil(len(X)/2e4)\n",
    "test_size"
   ]
  },
  {
   "cell_type": "code",
   "execution_count": 26,
   "metadata": {},
   "outputs": [],
   "source": [
    "l = None"
   ]
  },
  {
   "cell_type": "code",
   "execution_count": 27,
   "metadata": {},
   "outputs": [],
   "source": [
    "acentric_RMS = np.empty(len(sampling_size))"
   ]
  },
  {
   "cell_type": "code",
   "execution_count": 28,
   "metadata": {},
   "outputs": [
    {
     "name": "stdout",
     "output_type": "stream",
     "text": [
      "with size of 100, best params are [2.0306805  0.59174805 1.88577429 3.43541072] -0.5288958742325587 and rms error is  0.031\n",
      "with size of 200, best params are [2.66131451 0.43702335 1.63299566 2.06759455] -0.6085390631903793 and rms error is  0.027\n",
      "with size of 300, best params are [1.07867995 0.32119054 1.07524899 1.91545521] -1.7771977827663021 and rms error is  0.027\n",
      "with size of 400, best params are [1.95870796 0.54448398 1.45614421 1.5573373 ] -1.7050965390455664 and rms error is  0.028\n",
      "with size of 500, best params are [1.66167468 0.46377807 1.72039503 1.77989488] -1.7002693344685818 and rms error is  0.024\n",
      "with size of 600, best params are [1.52814143 0.435603   0.96209517 1.24522882] -4.579163740782452 and rms error is  0.02\n",
      "with size of 700, best params are [1.06531361 0.43262071 0.79880131 1.35290579] -5.8735917449808674 and rms error is  0.021\n",
      "with size of 800, best params are [1.11095435 0.31859391 0.7592182  1.72212529] -5.828009384675116 and rms error is  0.021\n",
      "with size of 900, best params are [1.36785649 0.31150977 1.14529842 1.27165033] -4.56908562023579 and rms error is  0.019\n",
      "with size of 1000, best params are [1.96200707 0.41209662 1.33632288 2.11678666] 0.39632853230868853 and rms error is  0.019\n",
      "with size of 2000, best params are [1.282861   0.34321115 1.20228139 2.19478332] 0.5291897076886687 and rms error is  0.017\n",
      "with size of 3000, best params are [1.08407946 0.30117141 0.55038655 2.03878085] 0.7741263303071436 and rms error is  0.009\n",
      "with size of 4000, best params are [1.17578428 0.32570055 0.53503011 1.87675651] 0.7838360740188918 and rms error is  0.01\n",
      "with size of 5000, best params are [0.85176227 0.29226069 0.5750159  2.2446244 ] 0.8569489791926741 and rms error is  0.009\n",
      "with size of 6000, best params are [0.73987393 0.24845899 0.80828438 1.16279027] 0.9965950086347661 and rms error is  0.007\n",
      "with size of 7000, best params are [0.70529377 0.24243439 0.66269249 1.15472328] 1.087635343779881 and rms error is  0.007\n",
      "with size of 8000, best params are [0.91232787 0.31629759 0.61977996 1.24518082] 0.9146444619059865 and rms error is  0.007\n",
      "with size of 9000, best params are [0.71193463 0.27910485 0.47793311 1.34168547] 1.1363075615644163 and rms error is  0.006\n",
      "with size of 10000, best params are [0.6655042  0.27020329 0.52369005 1.14180782] 1.2684018252822433 and rms error is  0.006\n"
     ]
    },
    {
     "data": {
      "text/plain": [
       "<Figure size 1800x1080 with 0 Axes>"
      ]
     },
     "metadata": {},
     "output_type": "display_data"
    }
   ],
   "source": [
    "plt.figure(figsize=(25,15))\n",
    "for i, size in enumerate(sampling_size):\n",
    "    step_size = ceil(len(X)/size)\n",
    "    \n",
    "    if l is None: res_args = np.ones(5)\n",
    "    else: res_args = np.append(l, sf)\n",
    "\n",
    "    best = scipy.optimize.minimize(res, res_args, \n",
    "                                   args=(X[::step_size], y[::step_size], X[::test_size], y[::test_size], False),\n",
    "                                   method='Nelder-Mead', options={'maxfev':tuning_rate[i]})\n",
    "\n",
    "    l = best.x[:-1]\n",
    "    sf = best.x[-1]\n",
    "    \n",
    "    p, k = fitPredict(X[::step_size], y[::step_size], X, l, sf)\n",
    "    \n",
    "    err = p-y\n",
    "    \n",
    "    rms = np.sqrt(np.mean(np.power(err, 2)))\n",
    "\n",
    "    print('with size of {}, best params are'.format(size),l,sf,'and rms error is ', np.around(rms,3))\n",
    "    acentric_RMS[i] = rms"
   ]
  },
  {
   "cell_type": "code",
   "execution_count": null,
   "metadata": {},
   "outputs": [],
   "source": []
  },
  {
   "cell_type": "code",
   "execution_count": null,
   "metadata": {},
   "outputs": [],
   "source": []
  },
  {
   "cell_type": "code",
   "execution_count": 31,
   "metadata": {},
   "outputs": [
    {
     "data": {
      "image/png": "[encoded data removed]",
      "text/plain": [
       "<Figure size 432x288 with 1 Axes>"
      ]
     },
     "metadata": {
      "needs_background": "light"
     },
     "output_type": "display_data"
    }
   ],
   "source": [
    "plt.plot(np.log10(sampling_size), centric_RMS, color='black', label='Centric')\n",
    "plt.plot(np.log10(sampling_size), acentric_RMS, color='black', linestyle='--', label='Acentric')\n",
    "plt.ylim((0,.1))\n",
    "plt.legend();\n",
    "plt.ylabel('RMS Error')\n",
    "plt.xlabel('$10^{-p}$ points')\n",
    "plt.savefig('gpr_Results.png', bbox_inches='tight', pad_inches=0);"
   ]
  },
  {
   "cell_type": "code",
   "execution_count": null,
   "metadata": {},
   "outputs": [],
   "source": []
  }
 ],
 "metadata": {
  "kernelspec": {
   "display_name": "Python 3",
   "language": "python",
   "name": "python3"
  },
  "language_info": {
   "codemirror_mode": {
    "name": "ipython",
    "version": 3
   },
   "file_extension": ".py",
   "mimetype": "text/x-python",
   "name": "python",
   "nbconvert_exporter": "python",
   "pygments_lexer": "ipython3",
   "version": "3.7.3"
  }
 },
 "nbformat": 4,
 "nbformat_minor": 4
}
