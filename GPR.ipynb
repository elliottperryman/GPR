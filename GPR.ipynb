{
 "cells": [
  {
   "cell_type": "markdown",
   "metadata": {},
   "source": [
    "# GPR\n",
    " * Implement log marginal likelihood optimization\n",
    " * Implement multiple kernels\n",
    "     * linear\n",
    "     * periodic\n",
    "     * rational quadratic\n",
    " * Use HXDY to do log marginal likelihood optimization\n",
    "#### Imports and Function Defs"
   ]
  },
  {
   "cell_type": "code",
   "execution_count": 1,
   "metadata": {},
   "outputs": [],
   "source": [
    "import numpy as np\n",
    "import matplotlib.pyplot as plt\n",
    "import numba as nb\n",
    "import scipy.sparse.linalg"
   ]
  },
  {
   "cell_type": "markdown",
   "metadata": {},
   "source": [
    "### Kernel Defs"
   ]
  },
  {
   "cell_type": "code",
   "execution_count": 2,
   "metadata": {},
   "outputs": [],
   "source": [
    "#@nb.njit(cache=True)\n",
    "def rbf(xp, xq, l, sf):\n",
    "    return sf*sf*np.exp(-.5 * np.sum(np.power((xp-xq)/l, 2)))"
   ]
  },
  {
   "cell_type": "markdown",
   "metadata": {},
   "source": [
    "### Kernel Derivative Defs"
   ]
  },
  {
   "cell_type": "code",
   "execution_count": 18,
   "metadata": {},
   "outputs": [],
   "source": [
    "#@nb.njit(cache=True)\n",
    "def rbf_prime(xp, xq, l, sf):\n",
    "    x_diff = xp-xq\n",
    "    result = np.empty(len(l)+1)\n",
    "    \n",
    "    l_power = 2.*sf*sf*np.exp(-.5 * np.sum(np.power(x_diff/l, 2)))*np.sum(x_diff/l)\n",
    "    for i in range(len(l)): result[i] =  l_power/l[i]\n",
    "        \n",
    "    sf_prime = 2.*sf*np.exp(-.5 * np.sum(np.power(x_diff/l, 2)))\n",
    "    result[-1] = sf_prime\n",
    "    \n",
    "    return result"
   ]
  },
  {
   "cell_type": "markdown",
   "metadata": {},
   "source": [
    "### Covariance Matrix Calculations"
   ]
  },
  {
   "cell_type": "code",
   "execution_count": 19,
   "metadata": {},
   "outputs": [],
   "source": [
    "#@nb.njit(parallel=True)\n",
    "def K_XX(X, l, sf):\n",
    "    cov = np.empty((len(X),len(X)))\n",
    "    for i in range(len(X)):\n",
    "        for j in range(i+1):\n",
    "            cov[i,j] = cov[j,i] = rbf(X[i], X[j], l, sf)\n",
    "    return cov"
   ]
  },
  {
   "cell_type": "code",
   "execution_count": 20,
   "metadata": {},
   "outputs": [],
   "source": [
    "#@nb.njit(parallel=True)\n",
    "def K_XY(X, Y, l, sf):\n",
    "    cov = np.empty((len(Y),len(X)))\n",
    "    for i in range(len(Y)):\n",
    "        for j in range(len(X)):\n",
    "            cov[i,j] = rbf(Y[i], X[j], l, sf)\n",
    "    return cov"
   ]
  },
  {
   "cell_type": "markdown",
   "metadata": {},
   "source": [
    "### Prediction Tools"
   ]
  },
  {
   "cell_type": "code",
   "execution_count": 21,
   "metadata": {},
   "outputs": [],
   "source": [
    "#@nb.njit(parallel=True)\n",
    "def predict(X, X_s, l, sf, k_xx_i_y, y_mean):\n",
    "    return np.dot(K_XY(X, X_s, l, sf), k_xx_i_y) + y_mean"
   ]
  },
  {
   "cell_type": "code",
   "execution_count": 22,
   "metadata": {},
   "outputs": [],
   "source": [
    "def fitPredict(X_train, y_train, X_test, l, sf):\n",
    "\n",
    "    k_xx = K_XX(X_train, l, sf)\n",
    "    y_mean = np.mean(y_train)\n",
    "    k_xx_i_y = scipy.sparse.linalg.minres(k_xx, y_train-y_mean)[0] \n",
    "    pred = predict(X_train, X_test, l, sf, k_xx_i_y, y_mean)\n",
    "    \n",
    "    return pred"
   ]
  },
  {
   "cell_type": "markdown",
   "metadata": {},
   "source": [
    "### $\\theta$ Optimization Tools"
   ]
  },
  {
   "cell_type": "code",
   "execution_count": 23,
   "metadata": {},
   "outputs": [],
   "source": [
    "def log_marginal_likelihood(x, y, l, sf):\n",
    "    K = K_XX(x, l, sf)\n",
    "    K_inv = np.linalg.pinv(K)\n",
    "    \n",
    "    term1 = -.5*np.log(np.linalg.det(K))\n",
    "    term2 = -.5*((y.T @ K_inv @ y)[0,0])\n",
    "    term3 = -(len(x)/2)*np.log(2.*np.pi)\n",
    "    return term1 + term2 + term3"
   ]
  },
  {
   "cell_type": "markdown",
   "metadata": {},
   "source": [
    "### Testing"
   ]
  },
  {
   "cell_type": "code",
   "execution_count": 24,
   "metadata": {},
   "outputs": [],
   "source": [
    "x = np.arange(-np.pi, np.pi, 1e-2).reshape(-1,1)\n",
    "y = (np.sin(x)**2).reshape(-1,1)"
   ]
  },
  {
   "cell_type": "code",
   "execution_count": 25,
   "metadata": {},
   "outputs": [
    {
     "data": {
      "image/png": "[encoded data removed]",
      "text/plain": [
       "<Figure size 432x288 with 1 Axes>"
      ]
     },
     "metadata": {
      "needs_background": "light"
     },
     "output_type": "display_data"
    }
   ],
   "source": [
    "plt.plot(x, y);"
   ]
  },
  {
   "cell_type": "code",
   "execution_count": 26,
   "metadata": {},
   "outputs": [],
   "source": [
    "def log_marginal_likelihood_prime(x, y, l, sf):\n",
    "    \n",
    "    K = K_XX(x, l, sf)\n",
    "    K_inv = np.linalg.pinv(K)\n",
    "\n",
    "    alpha = y.T @ K_inv\n",
    "\n",
    "    kernel_der = np.empty((len(x), len(x), len(np.append(l, sf))))\n",
    "\n",
    "    # idx = [slice(None)] * (myarray.ndim - 1) + [i] \n",
    "    # my_slice = myarray[idx]\n",
    "    # The slice(None) is equivalent to choosing all elements in that index, and the last [i] selects a specific index for the last dimension.\n",
    "\n",
    "    for i in range(len(x)):\n",
    "        for j in range(len(x)):\n",
    "            kernel_der[i,j] = rbf_prime(x[i], x[j], l, sf)\n",
    "\n",
    "    der = np.zeros(len(np.append(l, sf)))\n",
    "    for i in range(len(der)):\n",
    "        idx = tuple([slice(None)]*(kernel_der.ndim-1) + [i])\n",
    "        der[i] = (.5 * alpha @ kernel_der[idx] @ alpha.T)[0,0] \n",
    "        der[i] -= .5*np.trace(K_inv @ kernel_der[idx])\n",
    "    return der"
   ]
  },
  {
   "cell_type": "code",
   "execution_count": 27,
   "metadata": {},
   "outputs": [],
   "source": [
    "l_range = np.arange(.1, 2, 1e-3)"
   ]
  },
  {
   "cell_type": "code",
   "execution_count": 28,
   "metadata": {},
   "outputs": [],
   "source": [
    "sf_range = np.arange(.1, 3, 1e-2)"
   ]
  },
  {
   "cell_type": "code",
   "execution_count": 29,
   "metadata": {},
   "outputs": [],
   "source": [
    "z = np.empty((len(l_range), len(sf_range), 2))"
   ]
  },
  {
   "cell_type": "code",
   "execution_count": null,
   "metadata": {},
   "outputs": [],
   "source": []
  },
  {
   "cell_type": "code",
   "execution_count": null,
   "metadata": {},
   "outputs": [],
   "source": [
    "for i in range(len(l_range)):\n",
    "    for j in range(len(sf_range)):\n",
    "        z[i,j] = log_marginal_likelihood_prime(x[::100], y[::100], l_range[i]*np.ones(1), sf_range[j])"
   ]
  },
  {
   "cell_type": "code",
   "execution_count": null,
   "metadata": {},
   "outputs": [],
   "source": [
    "l_range[100]"
   ]
  },
  {
   "cell_type": "code",
   "execution_count": null,
   "metadata": {},
   "outputs": [],
   "source": [
    "sf_range[100]"
   ]
  },
  {
   "cell_type": "code",
   "execution_count": null,
   "metadata": {},
   "outputs": [],
   "source": []
  },
  {
   "cell_type": "code",
   "execution_count": null,
   "metadata": {},
   "outputs": [],
   "source": [
    "plt.plot(sf_range, z[100, :])"
   ]
  },
  {
   "cell_type": "code",
   "execution_count": null,
   "metadata": {},
   "outputs": [],
   "source": []
  },
  {
   "cell_type": "code",
   "execution_count": null,
   "metadata": {},
   "outputs": [],
   "source": [
    "plt.plot(l_range, z[:, 100])"
   ]
  },
  {
   "cell_type": "code",
   "execution_count": null,
   "metadata": {},
   "outputs": [],
   "source": []
  },
  {
   "cell_type": "code",
   "execution_count": 68,
   "metadata": {},
   "outputs": [],
   "source": [
    "p = fitPredict(x[::100], y[::100], x, 1.26*np.ones(1), 1.)"
   ]
  },
  {
   "cell_type": "code",
   "execution_count": 69,
   "metadata": {},
   "outputs": [
    {
     "data": {
      "image/png": "[encoded data removed]",
      "text/plain": [
       "<Figure size 432x288 with 1 Axes>"
      ]
     },
     "metadata": {
      "needs_background": "light"
     },
     "output_type": "display_data"
    }
   ],
   "source": [
    "plt.plot(x, y, label='truth')\n",
    "plt.plot(x, p, label='prediction');"
   ]
  },
  {
   "cell_type": "code",
   "execution_count": null,
   "metadata": {},
   "outputs": [],
   "source": []
  }
 ],
 "metadata": {
  "kernelspec": {
   "display_name": "Python 3",
   "language": "python",
   "name": "python3"
  },
  "language_info": {
   "codemirror_mode": {
    "name": "ipython",
    "version": 3
   },
   "file_extension": ".py",
   "mimetype": "text/x-python",
   "name": "python",
   "nbconvert_exporter": "python",
   "pygments_lexer": "ipython3",
   "version": "3.6.8"
  }
 },
 "nbformat": 4,
 "nbformat_minor": 4
}
